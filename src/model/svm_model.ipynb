{
 "cells": [
  {
   "cell_type": "code",
   "execution_count": 30,
   "metadata": {},
   "outputs": [],
   "source": [
    "import os\n",
    "import pandas as pd\n",
    "import numpy as np\n",
    "import random"
   ]
  },
  {
   "cell_type": "code",
   "execution_count": 31,
   "metadata": {},
   "outputs": [],
   "source": [
    "PROJECT_PATH = os.path.abspath('../..')"
   ]
  },
  {
   "cell_type": "code",
   "execution_count": 32,
   "metadata": {},
   "outputs": [],
   "source": [
    "os.chdir(PROJECT_PATH)"
   ]
  },
  {
   "cell_type": "code",
   "execution_count": 33,
   "metadata": {},
   "outputs": [],
   "source": [
    "# create dictionary of embeddings dataframes\n",
    "os.chdir('embedded_face_dataset')\n",
    "files = os.listdir()\n",
    "faces = {}\n",
    "for file in files:\n",
    "    faces[file.replace('.csv','')] = pd.read_csv(file)\n",
    "os.chdir(PROJECT_PATH)"
   ]
  },
  {
   "cell_type": "code",
   "execution_count": 34,
   "metadata": {},
   "outputs": [],
   "source": [
    "# create list of tuples of embeddings of two different people\n",
    "all_embed = []\n",
    "all_embed_shuffle = []\n",
    "all_faces = list(faces.keys())\n",
    "for face_name, face in faces.items():\n",
    "    # set randomly second face's embeddings\n",
    "    second_face_name = random.choice(all_faces)\n",
    "    while second_face_name == face_name:\n",
    "        second_face_name = random.choice(all_faces)\n",
    "    second_face = faces[second_face_name]\n",
    "    \n",
    "    all_embed_res = []\n",
    "    cols1 = face.columns\n",
    "    cols2 = second_face.columns\n",
    "    # add to list tuples (name, data) of all embedded pictures in person embedding\n",
    "    for col in cols1:\n",
    "        all_embed_res.append(tuple((face_name, face[col].tolist())))\n",
    "    for col in cols2:\n",
    "        all_embed_res.append(tuple((second_face_name, second_face[col].tolist())))\n",
    "    # add list of tuples to whole list\n",
    "    all_embed.append(all_embed_res)\n",
    "    # add to shuffled list shuffled list of tuples\n",
    "    all_embed_shuffle.append(random.sample(all_embed_res, len(all_embed_res)))\n",
    "\n",
    "# "
   ]
  },
  {
   "cell_type": "code",
   "execution_count": 42,
   "metadata": {},
   "outputs": [],
   "source": [
    "# in this scope we will create pairs of images from pairs of people\n",
    "# we will create pairs of embeddings and shuffled embeddings to get situations \n",
    "# when we have the same person (1) and when we have different person on both images (0)\n",
    "\n",
    "tuples_array = []\n",
    "outputs_array = []\n",
    "for i in range(len(all_embed)):\n",
    "    for j in range(len(all_embed[i])):\n",
    "        arr = tuple((all_embed[i][j], all_embed_shuffle[i][j]))\n",
    "        d = np.array(arr[0][1]) - np.array(arr[1][1])\n",
    "        tuples_array.append(d)\n",
    "        if arr[0][0] == arr[1][0]:\n",
    "            outputs_array.append(1)\n",
    "        else:\n",
    "            outputs_array.append(0)"
   ]
  },
  {
   "cell_type": "code",
   "execution_count": 43,
   "metadata": {},
   "outputs": [],
   "source": [
    "from sklearn.model_selection import train_test_split"
   ]
  },
  {
   "cell_type": "code",
   "execution_count": 44,
   "metadata": {},
   "outputs": [],
   "source": [
    "X_train, X_test, y_train, y_test = train_test_split(tuples_array, outputs_array, test_size = 0.3,\n",
    "                                                   random_state = 42)"
   ]
  },
  {
   "cell_type": "code",
   "execution_count": 45,
   "metadata": {},
   "outputs": [],
   "source": [
    "from sklearn import svm\n",
    "from sklearn.metrics import accuracy_score"
   ]
  },
  {
   "cell_type": "code",
   "execution_count": 46,
   "metadata": {},
   "outputs": [
    {
     "data": {
      "text/plain": [
       "SVC(C=1.0, cache_size=200, class_weight=None, coef0=0.0,\n",
       "    decision_function_shape='ovr', degree=3, gamma='scale', kernel='rbf',\n",
       "    max_iter=-1, probability=False, random_state=None, shrinking=True,\n",
       "    tol=0.001, verbose=False)"
      ]
     },
     "execution_count": 46,
     "metadata": {},
     "output_type": "execute_result"
    }
   ],
   "source": [
    "clf = svm.SVC(gamma = \"scale\")\n",
    "clf.fit(X_train, y_train)"
   ]
  },
  {
   "cell_type": "code",
   "execution_count": 47,
   "metadata": {},
   "outputs": [],
   "source": [
    "y_pred = clf.predict(X_test)"
   ]
  },
  {
   "cell_type": "code",
   "execution_count": 49,
   "metadata": {},
   "outputs": [
    {
     "name": "stdout",
     "output_type": "stream",
     "text": [
      "Test set efficienty : 95.90288315629742%\n"
     ]
    }
   ],
   "source": [
    "score = accuracy_score(y_test, y_pred)\n",
    "print(\"Test set efficienty : {}%\".format(score*100))"
   ]
  },
  {
   "cell_type": "code",
   "execution_count": 20,
   "metadata": {},
   "outputs": [],
   "source": [
    "import pickle"
   ]
  },
  {
   "cell_type": "code",
   "execution_count": 21,
   "metadata": {},
   "outputs": [],
   "source": [
    "model_filename = \"face_comparison_svm.sav\"\n",
    "pickle.dump(clf, open(model_filename, \"wb\"))"
   ]
  }
 ],
 "metadata": {
  "kernelspec": {
   "display_name": "Python 3",
   "language": "python",
   "name": "python3"
  },
  "language_info": {
   "codemirror_mode": {
    "name": "ipython",
    "version": 3
   },
   "file_extension": ".py",
   "mimetype": "text/x-python",
   "name": "python",
   "nbconvert_exporter": "python",
   "pygments_lexer": "ipython3",
   "version": "3.6.5"
  }
 },
 "nbformat": 4,
 "nbformat_minor": 2
}
